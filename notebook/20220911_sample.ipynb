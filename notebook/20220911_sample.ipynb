{
 "cells": [
  {
   "cell_type": "markdown",
   "id": "bd300738-349b-44c9-90a2-1b99764cf416",
   "metadata": {},
   "source": [
    "[家計目標達成シート](https://docs.google.com/spreadsheets/d/10Klr0er2jXVqGIzVU84E_24OkZDYWvRGXZBpJhznim0/edit#gid=0)"
   ]
  },
  {
   "cell_type": "code",
   "execution_count": 27,
   "id": "812b3d8c-fa7d-4bbc-87cb-a6f9788f2461",
   "metadata": {},
   "outputs": [],
   "source": [
    "import logging\n",
    "from pathlib import Path\n",
    "\n",
    "import logzero\n",
    "import pandas as pd\n",
    "from logzero import logger"
   ]
  },
  {
   "cell_type": "code",
   "execution_count": 28,
   "id": "d2742ee1-ffe1-46f6-a27b-11f61de3e5f2",
   "metadata": {},
   "outputs": [],
   "source": [
    "INPUT_PATH = Path(\"../data/input/\")\n",
    "file_name = \"収入・支出詳細_2022-09-01_2022-09-30.csv\""
   ]
  },
  {
   "cell_type": "code",
   "execution_count": 29,
   "id": "0fb8807c-4d72-4b77-923e-0e79b6500074",
   "metadata": {},
   "outputs": [],
   "source": [
    "logzero.loglevel(20)\n",
    "formatter = logging.Formatter(\"%(asctime)s %(levelname)s: %(message)s\")\n",
    "logzero.formatter(formatter)"
   ]
  },
  {
   "cell_type": "code",
   "execution_count": 32,
   "id": "17d3bd68-33fc-4f7c-bf78-a8052bffb0c1",
   "metadata": {},
   "outputs": [],
   "source": [
    "def get_expense(df: pd.DataFrame) -> dict:\n",
    "    return (\n",
    "        df[(df[\"振替\"] == 0) & (df[\"大項目\"] != \"収入\")].groupby(\"内容\").sum()[\"金額（円）\"].to_dict()\n",
    "    )"
   ]
  },
  {
   "cell_type": "code",
   "execution_count": 30,
   "id": "0d1c43a7-80c3-4c0f-bf63-93609158d925",
   "metadata": {},
   "outputs": [],
   "source": [
    "df = pd.read_csv(INPUT_PATH / file_name, encoding=\"shiftjis\")"
   ]
  },
  {
   "cell_type": "code",
   "execution_count": 33,
   "id": "5ad4e2f2-c559-4bf7-bc84-cbede762fa0b",
   "metadata": {},
   "outputs": [
    {
     "name": "stderr",
     "output_type": "stream",
     "text": [
      "2022-09-11 21:25:34,468 INFO: \n",
      "This week expense\n",
      "{'水道料': -3745}\n",
      "\n"
     ]
    }
   ],
   "source": [
    "logger.info(\n",
    "    f\"\"\"\n",
    "This week expense\n",
    "{get_expense(df)}\n",
    "\"\"\"\n",
    ")"
   ]
  }
 ],
 "metadata": {
  "kernelspec": {
   "display_name": "Python 3 (ipykernel)",
   "language": "python",
   "name": "python3"
  },
  "language_info": {
   "codemirror_mode": {
    "name": "ipython",
    "version": 3
   },
   "file_extension": ".py",
   "mimetype": "text/x-python",
   "name": "python",
   "nbconvert_exporter": "python",
   "pygments_lexer": "ipython3",
   "version": "3.10.5"
  }
 },
 "nbformat": 4,
 "nbformat_minor": 5
}
