{
 "cells": [
  {
   "cell_type": "markdown",
   "id": "bd300738-349b-44c9-90a2-1b99764cf416",
   "metadata": {},
   "source": [
    "[家計目標達成シート](https://docs.google.com/spreadsheets/d/10Klr0er2jXVqGIzVU84E_24OkZDYWvRGXZBpJhznim0/edit#gid=0)"
   ]
  },
  {
   "cell_type": "code",
   "execution_count": 23,
   "id": "812b3d8c-fa7d-4bbc-87cb-a6f9788f2461",
   "metadata": {},
   "outputs": [],
   "source": [
    "import logging\n",
    "from pathlib import Path\n",
    "\n",
    "import logzero\n",
    "import pandas as pd\n",
    "from logzero import logger"
   ]
  },
  {
   "cell_type": "code",
   "execution_count": 24,
   "id": "d2742ee1-ffe1-46f6-a27b-11f61de3e5f2",
   "metadata": {},
   "outputs": [],
   "source": [
    "INPUT_PATH = Path(\"../data/input/\")\n",
    "weeknum = 2\n",
    "file_name = f\"収入・支出詳細_2022-09-01_2022-09-30_w{weeknum}.csv\""
   ]
  },
  {
   "cell_type": "code",
   "execution_count": 25,
   "id": "0fb8807c-4d72-4b77-923e-0e79b6500074",
   "metadata": {},
   "outputs": [],
   "source": [
    "logzero.loglevel(20)\n",
    "formatter = logging.Formatter(\"%(asctime)s %(levelname)s: %(message)s\")\n",
    "logzero.formatter(formatter)"
   ]
  },
  {
   "cell_type": "code",
   "execution_count": 31,
   "id": "9185aafe-a2dc-485c-8697-43094af882db",
   "metadata": {},
   "outputs": [],
   "source": [
    "from pprint import pprint"
   ]
  },
  {
   "cell_type": "code",
   "execution_count": 49,
   "id": "17d3bd68-33fc-4f7c-bf78-a8052bffb0c1",
   "metadata": {},
   "outputs": [],
   "source": [
    "# def get_expense(df: pd.DataFrame) -> dict:\n",
    "#     return (\n",
    "#         df[(df[\"振替\"] == 0) & (df[\"大項目\"] != \"収入\")]\n",
    "#         .groupby(\"大項目\")\n",
    "#         .sum()[\"金額（円）\"]\n",
    "#         .to_dict()\n",
    "#     )\n",
    "\n",
    "\n",
    "def get_expense(df: pd.DataFrame) -> dict:\n",
    "    pprint(\n",
    "        sorted(\n",
    "            df[(df[\"振替\"] == 0) & (df[\"大項目\"] != \"収入\") & (df[\"大項目\"] != \"現金・カード\")]\n",
    "            .groupby(\"大項目\")\n",
    "            .sum()[\"金額（円）\"]\n",
    "            .to_dict()\n",
    "            .items(),\n",
    "            key=lambda x: x[1],\n",
    "        )\n",
    "    )"
   ]
  },
  {
   "cell_type": "markdown",
   "id": "31817041-70f7-4e36-961b-5fc4eb727b8e",
   "metadata": {},
   "source": [
    "# Main"
   ]
  },
  {
   "cell_type": "code",
   "execution_count": 50,
   "id": "0d1c43a7-80c3-4c0f-bf63-93609158d925",
   "metadata": {},
   "outputs": [],
   "source": [
    "df = pd.read_csv(INPUT_PATH / file_name, encoding=\"shiftjis\")"
   ]
  },
  {
   "cell_type": "code",
   "execution_count": 51,
   "id": "292dafce-9caf-44f5-a681-77cdecc1b89a",
   "metadata": {},
   "outputs": [
    {
     "data": {
      "text/html": [
       "<div>\n",
       "<style scoped>\n",
       "    .dataframe tbody tr th:only-of-type {\n",
       "        vertical-align: middle;\n",
       "    }\n",
       "\n",
       "    .dataframe tbody tr th {\n",
       "        vertical-align: top;\n",
       "    }\n",
       "\n",
       "    .dataframe thead th {\n",
       "        text-align: right;\n",
       "    }\n",
       "</style>\n",
       "<table border=\"1\" class=\"dataframe\">\n",
       "  <thead>\n",
       "    <tr style=\"text-align: right;\">\n",
       "      <th></th>\n",
       "      <th>計算対象</th>\n",
       "      <th>日付</th>\n",
       "      <th>内容</th>\n",
       "      <th>金額（円）</th>\n",
       "      <th>保有金融機関</th>\n",
       "      <th>大項目</th>\n",
       "      <th>中項目</th>\n",
       "      <th>メモ</th>\n",
       "      <th>振替</th>\n",
       "      <th>ID</th>\n",
       "    </tr>\n",
       "  </thead>\n",
       "  <tbody>\n",
       "    <tr>\n",
       "      <th>0</th>\n",
       "      <td>1</td>\n",
       "      <td>2022/09/17</td>\n",
       "      <td>決済 株式会社 マンボー</td>\n",
       "      <td>-400</td>\n",
       "      <td>LINE Pay</td>\n",
       "      <td>交際費</td>\n",
       "      <td>その他立て替え_他</td>\n",
       "      <td>matsuzaki wed</td>\n",
       "      <td>0</td>\n",
       "      <td>iVDFywcMGPFh3_NaVvr3Pg</td>\n",
       "    </tr>\n",
       "    <tr>\n",
       "      <th>1</th>\n",
       "      <td>1</td>\n",
       "      <td>2022/09/17</td>\n",
       "      <td>決済 カメラのキタムラ</td>\n",
       "      <td>-2200</td>\n",
       "      <td>LINE Pay</td>\n",
       "      <td>交際費</td>\n",
       "      <td>その他立て替え_他</td>\n",
       "      <td>matsuzaki wed</td>\n",
       "      <td>0</td>\n",
       "      <td>ezth951VmM71muboHlioKw</td>\n",
       "    </tr>\n",
       "    <tr>\n",
       "      <th>2</th>\n",
       "      <td>1</td>\n",
       "      <td>2022/09/17</td>\n",
       "      <td>決済 ワンダーシェアジャパン</td>\n",
       "      <td>-11819</td>\n",
       "      <td>LINE Pay</td>\n",
       "      <td>その他</td>\n",
       "      <td>事業経費</td>\n",
       "      <td>matsuzaki wed</td>\n",
       "      <td>0</td>\n",
       "      <td>dER_KsTEw45w_L_nIUDasQ</td>\n",
       "    </tr>\n",
       "    <tr>\n",
       "      <th>3</th>\n",
       "      <td>1</td>\n",
       "      <td>2022/09/17</td>\n",
       "      <td>メルペイ</td>\n",
       "      <td>-3000</td>\n",
       "      <td>三井住友銀行</td>\n",
       "      <td>趣味・娯楽</td>\n",
       "      <td>メルペイ</td>\n",
       "      <td>NaN</td>\n",
       "      <td>0</td>\n",
       "      <td>SoqXE7VmEsz5Ama6meXMOQ</td>\n",
       "    </tr>\n",
       "    <tr>\n",
       "      <th>4</th>\n",
       "      <td>1</td>\n",
       "      <td>2022/09/16</td>\n",
       "      <td>決済 赤坂Bizタワー</td>\n",
       "      <td>-3410</td>\n",
       "      <td>LINE Pay</td>\n",
       "      <td>交際費</td>\n",
       "      <td>飲食立て替え_2人</td>\n",
       "      <td>NaN</td>\n",
       "      <td>0</td>\n",
       "      <td>LtTp__uh4lPjDF3tqHgcQw</td>\n",
       "    </tr>\n",
       "  </tbody>\n",
       "</table>\n",
       "</div>"
      ],
      "text/plain": [
       "   計算対象          日付              内容  金額（円）    保有金融機関    大項目        中項目  \\\n",
       "0     1  2022/09/17    決済 株式会社 マンボー   -400  LINE Pay    交際費  その他立て替え_他   \n",
       "1     1  2022/09/17     決済 カメラのキタムラ  -2200  LINE Pay    交際費  その他立て替え_他   \n",
       "2     1  2022/09/17  決済 ワンダーシェアジャパン -11819  LINE Pay    その他       事業経費   \n",
       "3     1  2022/09/17            メルペイ  -3000    三井住友銀行  趣味・娯楽       メルペイ   \n",
       "4     1  2022/09/16     決済 赤坂Bizタワー  -3410  LINE Pay    交際費  飲食立て替え_2人   \n",
       "\n",
       "              メモ  振替                      ID  \n",
       "0  matsuzaki wed   0  iVDFywcMGPFh3_NaVvr3Pg  \n",
       "1  matsuzaki wed   0  ezth951VmM71muboHlioKw  \n",
       "2  matsuzaki wed   0  dER_KsTEw45w_L_nIUDasQ  \n",
       "3            NaN   0  SoqXE7VmEsz5Ama6meXMOQ  \n",
       "4            NaN   0  LtTp__uh4lPjDF3tqHgcQw  "
      ]
     },
     "execution_count": 51,
     "metadata": {},
     "output_type": "execute_result"
    }
   ],
   "source": [
    "df.head()"
   ]
  },
  {
   "cell_type": "code",
   "execution_count": 53,
   "id": "5ad4e2f2-c559-4bf7-bc84-cbede762fa0b",
   "metadata": {},
   "outputs": [
    {
     "name": "stderr",
     "output_type": "stream",
     "text": [
      "2022-09-19 14:19:46,588 INFO: \n",
      "This week expense\n",
      "None\n",
      "\n"
     ]
    },
    {
     "name": "stdout",
     "output_type": "stream",
     "text": [
      "[('交通費', -19440),\n",
      " ('食費', -18250),\n",
      " ('交際費', -16131),\n",
      " ('その他', -14994),\n",
      " ('通信費', -11256),\n",
      " ('健康・医療', -6430),\n",
      " ('日用品', -5814),\n",
      " ('水道・光熱費', -3745),\n",
      " ('趣味・娯楽', -3000),\n",
      " ('教養・教育', -2649)]\n"
     ]
    }
   ],
   "source": [
    "logger.info(\n",
    "    f\"\"\"\n",
    "This week expense\n",
    "{get_expense(df)}\n",
    "\"\"\"\n",
    ")"
   ]
  }
 ],
 "metadata": {
  "kernelspec": {
   "display_name": "Python 3 (ipykernel)",
   "language": "python",
   "name": "python3"
  },
  "language_info": {
   "codemirror_mode": {
    "name": "ipython",
    "version": 3
   },
   "file_extension": ".py",
   "mimetype": "text/x-python",
   "name": "python",
   "nbconvert_exporter": "python",
   "pygments_lexer": "ipython3",
   "version": "3.10.5"
  }
 },
 "nbformat": 4,
 "nbformat_minor": 5
}
